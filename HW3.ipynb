{
 "cells": [
  {
   "cell_type": "markdown",
   "id": "d554a4e3",
   "metadata": {
    "pycharm": {
     "name": "#%% md\n"
    }
   },
   "source": [
    "# KUC, PGR107\n",
    "# HW3\n"
   ]
  },
  {
   "cell_type": "markdown",
   "id": "46988d03",
   "metadata": {
    "pycharm": {
     "name": "#%% md\n"
    }
   },
   "source": [
    "## There are three tasks and should be finished and submitted through groups.\n",
    "## Each group is suggested to have 1-5 members.\n",
    "## In the submission, please include your implementation (executable code) as .ipynb document.\n",
    "## List your group name and group member information in the top (written in comments).\n"
   ]
  },
  {
   "cell_type": "markdown",
   "id": "20424491",
   "metadata": {
    "pycharm": {
     "name": "#%% md\n"
    }
   },
   "source": [
    "### P5.1 Strings\n",
    "\n",
    "#### Use the string str: \"Python Programming\" for questions 5.1.1 to 5.1.3.\n",
    "\n",
    "- 5.1.1 Iterate the string to calculate the length of str (hint: use for loop and len()).\n",
    "\n",
    "- 5.1.2 String Indexing: \n",
    "    - a. Get the index number of the letter \"o\" in the string.\n",
    "    - b. Find \"Program\" in the string segment \"Programming\".\n",
    "        \n",
    "- 5.1.3 Use slice to get the following:\n",
    "     - a. \"thon\"\n",
    "     - b. \"gnimmargorP\"\n",
    "     - c. \"Pto \"\n",
    "\n",
    "- 5.1.4 Create a new string and convert it to float.\n",
    "\n",
    "- 5.1.5 Write a program that asks the user to enter his age and print it using the f-string method.\n"
   ]
  },
  {
   "cell_type": "markdown",
   "id": "3f521946",
   "metadata": {
    "pycharm": {
     "name": "#%% md\n"
    }
   },
   "source": [
    "### P5.2 Files and operating system\n",
    "\n",
    "- 5.2.1 Create a .txt file and add few lines into the file.\n",
    "\n",
    "- 5.2.2 Load the .txt file\n",
    "\n",
    "- 5.2.3 Read the lines from the .txt file"
   ]
  }
 ],
 "metadata": {
  "kernelspec": {
   "display_name": "Python 3 (ipykernel)",
   "language": "python",
   "name": "python3"
  },
  "language_info": {
   "codemirror_mode": {
    "name": "ipython",
    "version": 3
   },
   "file_extension": ".py",
   "mimetype": "text/x-python",
   "name": "python",
   "nbconvert_exporter": "python",
   "pygments_lexer": "ipython3",
   "version": "3.9.12"
  }
 },
 "nbformat": 4,
 "nbformat_minor": 5
}