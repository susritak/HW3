{
 "cells": [
  {
   "cell_type": "markdown",
   "id": "710ed732",
   "metadata": {},
   "source": [
    "# HW3"
   ]
  },
  {
   "cell_type": "code",
   "execution_count": null,
   "id": "603e3b2a",
   "metadata": {},
   "outputs": [],
   "source": [
    "# use string str: \"Python Programming\" for questions 5.1.1 to 5.1.3"
   ]
  },
  {
   "cell_type": "code",
   "execution_count": 1,
   "id": "85c27d12",
   "metadata": {},
   "outputs": [
    {
     "name": "stdout",
     "output_type": "stream",
     "text": [
      "P\n",
      "y\n",
      "t\n",
      "h\n",
      "o\n",
      "n\n",
      " \n",
      "P\n",
      "r\n",
      "o\n",
      "g\n",
      "r\n",
      "a\n",
      "m\n",
      "m\n",
      "i\n",
      "n\n",
      "g\n",
      "P\n",
      "y\n",
      "t\n",
      "h\n",
      "o\n",
      "n\n",
      " \n",
      "P\n",
      "r\n",
      "o\n",
      "g\n",
      "r\n",
      "a\n",
      "m\n",
      "m\n",
      "i\n",
      "n\n",
      "g\n",
      "18\n"
     ]
    }
   ],
   "source": [
    "#5.1.1 \n",
    "\n",
    "#Iterate the string to calculate the length\n",
    "# of str (use for loop and len())\n",
    "\n",
    "s = \"Python Programming\"\n",
    "\n",
    "for x in s:\n",
    "    \n",
    "    print(x)\n",
    "    \n",
    "# or\n",
    "\n",
    "for i, v in enumerate(s):\n",
    "    print(v)\n",
    "    \n",
    "    \n",
    "# finding the length \n",
    "print(len(s))\n",
    " "
   ]
  },
  {
   "cell_type": "code",
   "execution_count": 2,
   "id": "4f4b5004",
   "metadata": {},
   "outputs": [
    {
     "name": "stdout",
     "output_type": "stream",
     "text": [
      "4\n"
     ]
    }
   ],
   "source": [
    " #5.1.2 \n",
    "\n",
    "# a) Get the index number of the letter \"o\" in the string\n",
    "\n",
    "s = \"Python Programming\"\n",
    "\n",
    "index = s.index('o')\n",
    "print(index)"
   ]
  },
  {
   "cell_type": "code",
   "execution_count": 3,
   "id": "ebdce457",
   "metadata": {},
   "outputs": [
    {
     "name": "stdout",
     "output_type": "stream",
     "text": [
      "Program\n"
     ]
    }
   ],
   "source": [
    "#5.1.2 \n",
    "\n",
    "# b) Find \"Program\" in the string segment \"Programming\"\n",
    "\n",
    "s = \"Programming\"\n",
    "a = s[0:7]\n",
    "\n",
    "print(a)"
   ]
  },
  {
   "cell_type": "code",
   "execution_count": 4,
   "id": "fcb495f6",
   "metadata": {},
   "outputs": [
    {
     "name": "stdout",
     "output_type": "stream",
     "text": [
      "thon\n",
      "gnimmargorP\n",
      "P t o\n"
     ]
    }
   ],
   "source": [
    "#5.1.3 \n",
    "\n",
    "# Use slice to get the following:\n",
    "\n",
    "# a) \"thon\"\n",
    "\n",
    "s = \"Python Programming\"\n",
    "a = s[2:6]\n",
    "\n",
    "print(a)\n",
    "\n",
    "# b) \"gnimmargorP\"\n",
    "\n",
    "s= \"Python Programming\"\n",
    "a = s[:6:-1]\n",
    "\n",
    "print(a)\n",
    "# c) \"Pto\"\n",
    "\n",
    "\n",
    "s= \"Python Programming\"\n",
    "print(s[0:1], s[2:3], s[4:5])\n",
    "\n",
    "#NOTE : Pretty sure this is wrong but I couldn't find \n",
    "# any other way to do it "
   ]
  },
  {
   "cell_type": "code",
   "execution_count": 5,
   "id": "3efa5fb8",
   "metadata": {},
   "outputs": [
    {
     "name": "stdout",
     "output_type": "stream",
     "text": [
      "<class 'float'>\n",
      "Float Value = 1234.0\n"
     ]
    }
   ],
   "source": [
    "# 5.1.4\n",
    "\n",
    "#Create a new string and  convert it to float\n",
    "\n",
    "s = \"1234\"\n",
    "s = float(s)\n",
    "print(type(s))\n",
    "print('Float Value =', s)"
   ]
  },
  {
   "cell_type": "code",
   "execution_count": 6,
   "id": "96dec46d",
   "metadata": {},
   "outputs": [
    {
     "name": "stdout",
     "output_type": "stream",
     "text": [
      "What's your age?: 24\n",
      "Your age is 24\n"
     ]
    }
   ],
   "source": [
    "# 5.1.5\n",
    "\n",
    "# Write a program that asks the user to enter his age\n",
    "# and print it using the f-string method\n",
    "\n",
    "age = int(input(\"What's your age?: \"))\n",
    "print(f\"Your age is {age}\")"
   ]
  },
  {
   "cell_type": "code",
   "execution_count": null,
   "id": "313e39b5",
   "metadata": {},
   "outputs": [],
   "source": [
    "#5.2.1 - 5.2.2 - 5.2.3\n",
    "\n",
    "# Create a.txt file and add few lines into the file\n",
    "# Load the .txt file \n",
    "\n",
    "# 5.2.3\n",
    "\n",
    "#Read the lines from the .txt file"
   ]
  }
 ],
 "metadata": {
  "kernelspec": {
   "display_name": "Python 3 (ipykernel)",
   "language": "python",
   "name": "python3"
  },
  "language_info": {
   "codemirror_mode": {
    "name": "ipython",
    "version": 3
   },
   "file_extension": ".py",
   "mimetype": "text/x-python",
   "name": "python",
   "nbconvert_exporter": "python",
   "pygments_lexer": "ipython3",
   "version": "3.9.12"
  }
 },
 "nbformat": 4,
 "nbformat_minor": 5
}
